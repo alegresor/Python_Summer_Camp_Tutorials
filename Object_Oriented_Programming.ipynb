{
 "cells": [
  {
   "cell_type": "markdown",
   "metadata": {},
   "source": [
    "# Object Oriented Programming\n",
    "1. Imports<br>\n",
    "2. Class Construction<br>\n",
    "3. Class Functions<br>\n",
    "4. Magic Methods<br>\n",
    "5. Inheritance<br>\n",
    "6. Project!"
   ]
  },
  {
   "cell_type": "code",
   "execution_count": 1,
   "metadata": {},
   "outputs": [],
   "source": [
    "# Importing from seperate file\n",
    "from Script2 import Student,decrypt # ==> Imports Student class and decrypt function\n",
    "# import Script2 as f # ==>  Student class is now f.Student\n",
    "# from Script2 import * ==> Imports all classes and methods from Script2.py"
   ]
  },
  {
   "cell_type": "code",
   "execution_count": 2,
   "metadata": {},
   "outputs": [
    {
     "name": "stdout",
     "output_type": "stream",
     "text": [
      "Pet:  Python\n",
      "Pet:  Anaconda\n",
      "Python Anaconda\n",
      "['Python', 'Panda']\n",
      "^^^ Zoo animals, not pets >:(\n"
     ]
    }
   ],
   "source": [
    "# Class Construction\n",
    "class Animal:\n",
    "    def __init__(self,typeOf_animal):\n",
    "        self.species = typeOf_animal\n",
    "        print('Pet: ',self.species)\n",
    "        \n",
    "pet_1 = Animal('Python')\n",
    "pet_2 = Animal('Anaconda')\n",
    "print(pet_1.species,pet_2.species)\n",
    "pet_2.species = 'Panda'\n",
    "print([pet_1.species,pet_2.species])\n",
    "print(decrypt('йййϻеъъϻмщфшмчюЇϻщъяϻыряюϻЙЕЃ',987))"
   ]
  },
  {
   "cell_type": "code",
   "execution_count": 3,
   "metadata": {},
   "outputs": [
    {
     "name": "stdout",
     "output_type": "stream",
     "text": [
      "Hello blue eyed Alice who is 20 years old\n",
      "Hello purple eyed Bob who is 21 years old\n",
      "Students in class: ['Alice', 'Bob']\n",
      "<Script2.Student object at 0x00000186BE808F98>\n"
     ]
    }
   ],
   "source": [
    "# Class Functions\n",
    "miAmigo = Student('Alice',20,'blue')\n",
    "suAmigo = Student('Bob',21)\n",
    "print(miAmigo.get_message())\n",
    "print(suAmigo.get_message())\n",
    "students = [miAmigo.name,suAmigo.name]\n",
    "print('Students in class:', students)\n",
    "print(miAmigo)"
   ]
  },
  {
   "cell_type": "code",
   "execution_count": 4,
   "metadata": {},
   "outputs": [
    {
     "name": "stdout",
     "output_type": "stream",
     "text": [
      "30\n",
      "Animal(Pekingese,15,['white', 'yellow'])\n",
      "2\n",
      "white\n",
      "yellow\n",
      "['white', 'yellow', 'organge', 'white']\n"
     ]
    }
   ],
   "source": [
    "# Magic Methods\n",
    "#    Everythin in python is an object\n",
    "a = 'bob'\n",
    "print(type(a))\n",
    "print(a+'cat')\n",
    "b = 16.5\n",
    "print(type(b))"
   ]
  },
  {
   "cell_type": "code",
   "execution_count": null,
   "metadata": {},
   "outputs": [],
   "source": [
    "#    Animal Class with magic methods of form __XXX__\n",
    "class Animal:\n",
    "    def __init__(self,typeOf_animal,age,colors):\n",
    "        self.species = typeOf_animal\n",
    "        self.age = age\n",
    "        self.colors = colors\n",
    "    \n",
    "    def get_age_in_num_years(self,num):\n",
    "        return self.age+num\n",
    "    \n",
    "    def __repr__(self):\n",
    "        return 'Animal('+str(self.species)+','+str(self.age)+','+str(self.colors)+')'\n",
    "    \n",
    "    def __add__(self,other):\n",
    "        return self.colors + other.colors\n",
    "    def __len__(self):\n",
    "        return len(self.colors)\n",
    "    \n",
    "    def __iter__(self):\n",
    "        for color in self.colors:\n",
    "            yield color\n",
    "            \n",
    "doggo = Animal('Pekingese',15,['white','yellow'])\n",
    "print(doggo.get_age_in_num_years(15))\n",
    "print(doggo)\n",
    "print(len(doggo))\n",
    "for color in doggo:\n",
    "    print(color)\n",
    "catto = Animal('Meow',16,['organge','white'])\n",
    "print(doggo+catto)"
   ]
  },
  {
   "cell_type": "code",
   "execution_count": 5,
   "metadata": {},
   "outputs": [
    {
     "name": "stdout",
     "output_type": "stream",
     "text": [
      "2\n",
      "The Ostrich's beak is white\n",
      "Be careful, its an old bird\n"
     ]
    }
   ],
   "source": [
    "# Inheritance\n",
    "class Bird(Animal):\n",
    "    def __init__(self,typeOf_animal,age,body_colors,beak_color,can_fly):\n",
    "        super().__init__(typeOf_animal,age,body_colors)\n",
    "        self.body_colors = self.colors\n",
    "        self.beak_color = beak_color\n",
    "        self.can_fly = can_fly\n",
    "    \n",
    "    def get_beak_statement(self):\n",
    "        return 'The '+self.species+\"'s beak is \"+self.beak_color\n",
    "    \n",
    "    def can_take_for_a_walk(self):\n",
    "        if self.can_fly:\n",
    "            return False\n",
    "        if self.age<=10:\n",
    "            return True\n",
    "        return 'Be careful, its an old bird'\n",
    "bird1 = Bird('Ostrich',12,['brown','beige'],'white',False)\n",
    "print(len(bird1))\n",
    "print(bird1.get_beak_statement())\n",
    "print(bird1.can_take_for_a_walk())"
   ]
  },
  {
   "cell_type": "markdown",
   "metadata": {},
   "source": [
    "# Project\n",
    "Make a class of your choice which includes (at minimum): \n",
    "- Constructor\n",
    "- Loop\n",
    "- One non-magic method\n",
    "- One magic method\n",
    "- 2 Example Instances"
   ]
  }
 ],
 "metadata": {
  "kernelspec": {
   "display_name": "Python 3",
   "language": "python",
   "name": "python3"
  },
  "language_info": {
   "codemirror_mode": {
    "name": "ipython",
    "version": 3
   },
   "file_extension": ".py",
   "mimetype": "text/x-python",
   "name": "python",
   "nbconvert_exporter": "python",
   "pygments_lexer": "ipython3",
   "version": "3.6.5"
  }
 },
 "nbformat": 4,
 "nbformat_minor": 2
}
