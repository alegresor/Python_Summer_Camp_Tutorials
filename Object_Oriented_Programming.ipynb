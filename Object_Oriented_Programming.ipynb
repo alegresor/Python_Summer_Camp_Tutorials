{
 "cells": [
  {
   "cell_type": "markdown",
   "metadata": {},
   "source": [
    "# Object Oriented Programming\n",
    "1. Imports<br>\n",
    "2. Class Construction<br>\n",
    "3. Class Functions<br>\n",
    "4. Magic Methods<br>\n",
    "5. Inheritance<br>\n",
    "6. Project!"
   ]
  },
  {
   "cell_type": "code",
   "execution_count": 1,
   "metadata": {},
   "outputs": [
    {
     "name": "stdout",
     "output_type": "stream",
     "text": [
      "Python does not know what pi is\n",
      "But the math package does: 3.141592653589793\n",
      "7 8\n",
      "1/2\n"
     ]
    }
   ],
   "source": [
    "# Imports\n",
    "from Script2 import Student,decrypt # ==> Imports Student class and decrypt function\n",
    "# import Script2 as f # ==>  Student class is now f.Student\n",
    "# from Script2 import * ==> Imports all classes and methods from Script2.py\n",
    "\n",
    "#    Import math package\n",
    "import math # a package (group of variables, functions, and classes) written by someone else\n",
    "try:\n",
    "    print(pi)\n",
    "except:\n",
    "    print('Python does not know what pi is')\n",
    "print('But the math package does:',math.pi)\n",
    "print(math.floor(7.9),math.ceil(7.1))\n",
    "\n",
    "#    Import Class from fraction package\n",
    "from fractions import Fraction\n",
    "f1 = Fraction(3,4) # 3/4\n",
    "f2 = Fraction(2,3) # 2/3\n",
    "print(f1*f2) # (3/4)*(2/3)"
   ]
  },
  {
   "cell_type": "code",
   "execution_count": 2,
   "metadata": {},
   "outputs": [
    {
     "name": "stdout",
     "output_type": "stream",
     "text": [
      "Pet:  Python\n",
      "Pet:  Anaconda\n",
      "South America\n",
      "South America\n",
      "Python Anaconda\n",
      "['Python', 'Panda']\n",
      "^^^ Zoo animals, not pets >:(\n"
     ]
    }
   ],
   "source": [
    "# Class Construction\n",
    "class Animal:\n",
    "    location = 'South America'\n",
    "    def __init__(self,typeOf_animal):\n",
    "        self.species = typeOf_animal\n",
    "        print('Pet: ',self.species)\n",
    "\n",
    "pet_1 = Animal('Python')\n",
    "pet_2 = Animal('Anaconda')\n",
    "print(Animal.location)\n",
    "print(pet_1.location)\n",
    "print(pet_1.species,pet_2.species)\n",
    "pet_2.species = 'Panda'\n",
    "print([pet_1.species,pet_2.species])\n",
    "print(decrypt('йййϻеъъϻмщфшмчюЇϻщъяϻыряюϻЙЕЃ',987))\n",
    "'''\n",
    "Exercise: \n",
    "    Write a class with a constructor\n",
    "    Make an instance of the class\n",
    "Challenge: \n",
    "    Make your constructor have more inputs\n",
    "    Make your instance have more attributes\n",
    "    Put multiple instances of your class in a list\n",
    "''';"
   ]
  },
  {
   "cell_type": "code",
   "execution_count": 3,
   "metadata": {},
   "outputs": [
    {
     "name": "stdout",
     "output_type": "stream",
     "text": [
      "Hello blue eyed Alice who is 20 years old\n",
      "Hello purple eyed Bob who is 21 years old\n",
      "Names of students in class: ['Alice', 'Bob']\n",
      "<Script2.Student object at 0x000002221E6A6AC8>\n"
     ]
    }
   ],
   "source": [
    "# Class Functions\n",
    "miAmigo = Student('Alice',20,'blue')\n",
    "suAmigo = Student('Bob',21)\n",
    "print(miAmigo.get_message())\n",
    "print(suAmigo.get_message())\n",
    "students = [miAmigo.name,suAmigo.name]\n",
    "print('Names of students in class:', students)\n",
    "print(miAmigo)\n",
    "'''\n",
    "Exercise:\n",
    "    Make an instance of the Student class for yourself. \n",
    "    Make an instance for your neighbor's'\n",
    "    Put the two instances in a list\n",
    "Challenge:\n",
    "    Write a loop to print the name of each student in the class list\n",
    "    Write a loop to print the eye_color of each student in the class list\n",
    "    Hint: You can do the above 2 challenges with the same loop by changing a single word\n",
    "''';"
   ]
  },
  {
   "cell_type": "code",
   "execution_count": 4,
   "metadata": {},
   "outputs": [
    {
     "name": "stdout",
     "output_type": "stream",
     "text": [
      "<class 'str'>\n",
      "bobcat\n",
      "<class 'float'>\n",
      "<class 'str'>\n",
      "[1, 2, 3]\n",
      "True\n"
     ]
    }
   ],
   "source": [
    "# Magic Methods\n",
    "#    Everythin in python is an object\n",
    "a = 'bob'\n",
    "print(type(a))\n",
    "print(a+'cat') # 'bob'.__add__(cat)\n",
    "\n",
    "b = 16.5\n",
    "print(type(b))\n",
    "\n",
    "l1 = [1,2,3]\n",
    "s1 = l1.__repr__()\n",
    "s2 = str(l1)\n",
    "print(type(s1))\n",
    "print(s1)\n",
    "print(s1==s2)\n",
    "'''\n",
    "Exercise:\n",
    "    What class (type) is:\n",
    "    a=(1,2,3) ?\n",
    "    b={1:'Do', 2:'Re', 3:'Mi', 4:'Fa', 5:'So', 6:'La', 7:'Ti', 8:'Do'} ?\n",
    "Challenge:\n",
    "    Whenver python sees len(x) it calls x.__len__()\n",
    "    Write code that uses a magic function to get the length of a and b\n",
    "    So what if we call len(Animal) or len(Student)? What class functions will python look for?\n",
    "    How can we implement those? \n",
    "''';"
   ]
  },
  {
   "cell_type": "code",
   "execution_count": 5,
   "metadata": {},
   "outputs": [
    {
     "name": "stdout",
     "output_type": "stream",
     "text": [
      "30\n",
      "Animal(Pekingese,15,['white', 'yellow'])\n",
      "2\n",
      "white\n",
      "yellow\n",
      "['white', 'yellow', 'organge', 'white']\n"
     ]
    }
   ],
   "source": [
    "#    Animal Class with magic methods of form __XXX__\n",
    "class Animal:\n",
    "    def __init__(self,typeOf_animal,age,colors):\n",
    "        self.species = typeOf_animal\n",
    "        self.age = age\n",
    "        self.colors = colors\n",
    "    \n",
    "    def get_age_in_num_years(self,num):\n",
    "        return self.age+num\n",
    "    \n",
    "    def __repr__(self):\n",
    "        return 'Animal('+str(self.species)+','+str(self.age)+','+str(self.colors)+')'\n",
    "    \n",
    "    def __add__(self,other):\n",
    "        return self.colors + other.colors\n",
    "    def __len__(self):\n",
    "        return len(self.colors)\n",
    "    \n",
    "    def __iter__(self):\n",
    "        for color in self.colors:\n",
    "            yield color\n",
    "            \n",
    "doggo = Animal('Pekingese',15,['white','yellow'])\n",
    "print(doggo.get_age_in_num_years(15))\n",
    "print(doggo)\n",
    "print(len(doggo))\n",
    "for color in doggo:\n",
    "    print(color)\n",
    "catto = Animal('Meow',16,['organge','white'])\n",
    "print(doggo+catto)\n",
    "'''\n",
    "Exercise:\n",
    "    Create an instances of the Animal class\n",
    "    Envoke each magic method without explicitly using the name\n",
    "    Example: Use len(x) instead of x.__len__()\n",
    "Challenge:\n",
    "    Python interprets 'x<y' as 'x.__lt__(y)'\n",
    "    Write an Animal class function that allows us to test if doggo is younger than catto\n",
    "    'doggo<catto' should return True\n",
    "    Hint: def __lt__(self,otherAnimal): (Use self.age and otherAnimal.age)\n",
    "''';"
   ]
  },
  {
   "cell_type": "code",
   "execution_count": 7,
   "metadata": {},
   "outputs": [
    {
     "name": "stdout",
     "output_type": "stream",
     "text": [
      "2\n",
      "The Ostrich's beak is white\n",
      "Be careful, its an old bird\n"
     ]
    }
   ],
   "source": [
    "# Inheritance\n",
    "class Bird(Animal):\n",
    "    def __init__(self,typeOf_animal,age,body_colors,beak_color,can_fly):\n",
    "        super().__init__(typeOf_animal,age,body_colors)\n",
    "        self.body_colors = self.colors\n",
    "        self.beak_color = beak_color\n",
    "        self.can_fly = can_fly\n",
    "    \n",
    "    def get_beak_statement(self):\n",
    "        return 'The '+self.species+\"'s beak is \"+self.beak_color\n",
    "    \n",
    "    def can_take_for_a_walk(self):\n",
    "        if self.can_fly:\n",
    "            return False\n",
    "        if self.age<=10:\n",
    "            return True\n",
    "        return 'Be careful, its an old bird'\n",
    "    \n",
    "bird1 = Bird('Ostrich',12,['brown','beige'],'white',False)\n",
    "print(len(bird1))\n",
    "print(bird1.get_beak_statement())\n",
    "print(bird1.can_take_for_a_walk())\n",
    "'''\n",
    "Exercise:\n",
    "    Write the Mammal class, a subclass of Animal\n",
    "    The Mammal class should have a constructor with at least one input and a class method\n",
    "Challenge:\n",
    "    What if we wanted a Land_Mammal class? \n",
    "    How would we implement it? \n",
    "    What would the super-class's' be? \n",
    "''';"
   ]
  },
  {
   "cell_type": "markdown",
   "metadata": {},
   "source": [
    "# Project\n",
    "Make a class of your choice which includes (at minimum): \n",
    "- Constructor\n",
    "- Loop\n",
    "- One non-magic method\n",
    "- One magic method\n",
    "- 2 Example Instances"
   ]
  },
  {
   "cell_type": "markdown",
   "metadata": {},
   "source": [
    "### After Summer Camp\n",
    "Feel free to email me with any questions: asorokin@hawk.iit.edu<br>\n",
    "I'd apprecaite any feedback on this course\n",
    "- Access the above notebooks at: https://github.com/alegresor/Python_Summer_Camp_Tutorials<br>\n",
    "- Saturday classes with Miss Vida<br>\n",
    "- Some good resources to continue learning are linked in the README.md file<br>"
   ]
  }
 ],
 "metadata": {
  "kernelspec": {
   "display_name": "Python 3",
   "language": "python",
   "name": "python3"
  },
  "language_info": {
   "codemirror_mode": {
    "name": "ipython",
    "version": 3
   },
   "file_extension": ".py",
   "mimetype": "text/x-python",
   "name": "python",
   "nbconvert_exporter": "python",
   "pygments_lexer": "ipython3",
   "version": "3.6.5"
  }
 },
 "nbformat": 4,
 "nbformat_minor": 2
}
