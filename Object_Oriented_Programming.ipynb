{
 "cells": [
  {
   "cell_type": "markdown",
   "metadata": {},
   "source": [
    "# Object Oriented Programming"
   ]
  },
  {
   "cell_type": "code",
   "execution_count": 4,
   "metadata": {},
   "outputs": [],
   "source": [
    "from Script2 import Student,decrypt # ==> Access to Student class\n",
    "# import Student_Class as f # ==>  Class is now f.Student\n",
    "# from Student_Class import * ==> Have all classes and methods from that .py file"
   ]
  },
  {
   "cell_type": "code",
   "execution_count": 5,
   "metadata": {},
   "outputs": [
    {
     "name": "stdout",
     "output_type": "stream",
     "text": [
      "Pet:  Python\n",
      "Pet:  Anaconda\n",
      "Python Anaconda\n",
      "['Python', 'Panda']\n",
      "^^^ Zoo animals, not pets >:(\n"
     ]
    }
   ],
   "source": [
    "# Class Construction\n",
    "class Animal:\n",
    "    def __init__(self,typo_animal):\n",
    "        self.species = typo_animal\n",
    "        print('Pet: ',self.species)\n",
    "        \n",
    "pet_1 = Animal('Python')\n",
    "pet_2 = Animal('Anaconda')\n",
    "print(pet_1.species,pet_2.species)\n",
    "pet_2.species = 'Panda'\n",
    "print([pet_1.species,pet_2.species])\n",
    "print(decrypt('йййϻеъъϻмщфшмчюЇϻщъяϻыряюϻЙЕЃ',987))"
   ]
  },
  {
   "cell_type": "code",
   "execution_count": 11,
   "metadata": {},
   "outputs": [
    {
     "name": "stdout",
     "output_type": "stream",
     "text": [
      "Hello blue eyed Alice who is 20years old\n",
      "Hello purple eyed Bob who is 21years old\n",
      "Students in class: ['Alice', 'Bob']\n",
      "<Script2.Student object at 0x000002F2CE0F4518>\n"
     ]
    }
   ],
   "source": [
    "# Class Functions\n",
    "miAmigo = Student('Alice',20,'blue')\n",
    "suAmigo = Student('Bob',21)\n",
    "print(miAmigo.get_message())\n",
    "print(suAmigo.get_message())\n",
    "students = [miAmigo.name,suAmigo.name]\n",
    "print('Students in class:', students)\n",
    "print(miAmigo)"
   ]
  },
  {
   "cell_type": "code",
   "execution_count": 20,
   "metadata": {},
   "outputs": [
    {
     "name": "stdout",
     "output_type": "stream",
     "text": [
      "20\n",
      "Animal(Pekingese,15,['white', 'yellow'])\n",
      "2\n",
      "white\n",
      "yellow\n"
     ]
    }
   ],
   "source": [
    "# Overwriting Built-In Functions\n",
    "class Animal:\n",
    "    def __init__(self,typo_animal,age,colors):\n",
    "        self.species = typo_animal\n",
    "        self.age = age\n",
    "        self.colors = colors\n",
    "    \n",
    "    def get_age_in_5_years(self):\n",
    "        return self.age+5\n",
    "    \n",
    "    def __repr__(self):\n",
    "        return 'Animal('+str(self.species)+','+str(self.age)+','+str(self.colors)+')'\n",
    "    \n",
    "    def __len__(self):\n",
    "        return len(self.colors)\n",
    "    \n",
    "    def __iter__(self):\n",
    "        for color in self.colors:\n",
    "            yield color\n",
    "doggo = Animal('Pekingese',15,['white','yellow'])\n",
    "print(doggo.get_age_in_5_years())\n",
    "print(doggo)\n",
    "print(len(doggo))\n",
    "for color in doggo:\n",
    "    print(color)"
   ]
  },
  {
   "cell_type": "code",
   "execution_count": null,
   "metadata": {},
   "outputs": [],
   "source": []
  }
 ],
 "metadata": {
  "kernelspec": {
   "display_name": "Python 3",
   "language": "python",
   "name": "python3"
  },
  "language_info": {
   "codemirror_mode": {
    "name": "ipython",
    "version": 3
   },
   "file_extension": ".py",
   "mimetype": "text/x-python",
   "name": "python",
   "nbconvert_exporter": "python",
   "pygments_lexer": "ipython3",
   "version": "3.6.5"
  }
 },
 "nbformat": 4,
 "nbformat_minor": 2
}
