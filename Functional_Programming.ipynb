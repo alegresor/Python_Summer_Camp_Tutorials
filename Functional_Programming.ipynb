{
 "cells": [
  {
   "cell_type": "markdown",
   "metadata": {},
   "source": [
    "# Functional Programming\n",
    "1. Simle Function<br>\n",
    "2. Default Inputs<br>\n",
    "3. Multiple Inputs<br>\n",
    "4. Lambda Functions<br>\n",
    "5. Example: Encryption/Decryption "
   ]
  },
  {
   "cell_type": "code",
   "execution_count": 44,
   "metadata": {},
   "outputs": [
    {
     "name": "stdout",
     "output_type": "stream",
     "text": [
      "7\n",
      "8\n",
      "9 -> on no\n"
     ]
    }
   ],
   "source": [
    "# Simple Functions\n",
    "def f(x):\n",
    "    print(x)\n",
    "    return x+1\n",
    "x1 = 7\n",
    "y = f(x1)\n",
    "print(y)\n",
    "print(x1+2, '-> oh no')"
   ]
  },
  {
   "cell_type": "code",
   "execution_count": 48,
   "metadata": {},
   "outputs": [
    {
     "name": "stdout",
     "output_type": "stream",
     "text": [
      "Hola alice your #1\n",
      "Hola bob your #1\n",
      "Hola ['alice', 'bob'] your #1\n",
      "Hola bobby your #1\n",
      ":<)\n"
     ]
    }
   ],
   "source": [
    "# Default Inputs\n",
    "def message(name='bob'):\n",
    "    num = 0\n",
    "    num += 1 # Same as: num = num+1\n",
    "    print('Hola',name,'your #'+str(num))\n",
    "    return ':<)'\n",
    "message('alice')\n",
    "message()\n",
    "message(['alice','bob'])\n",
    "recieved = message({'a':'alice','b':'bobby'}['b'])\n",
    "print(recieved)"
   ]
  },
  {
   "cell_type": "code",
   "execution_count": 46,
   "metadata": {},
   "outputs": [
    {
     "name": "stdout",
     "output_type": "stream",
     "text": [
      "Welcome to: BOB'S PANTRY\n",
      "\t Cereal     2.50 \n",
      "\t Jello      0.50 \n",
      "\t Ramen      1.00 \n"
     ]
    }
   ],
   "source": [
    "# Multiple Inputs\n",
    "def store(name,stuff):\n",
    "    print('Welcome to:',name.upper())\n",
    "    items = list(stuff.keys())\n",
    "    sorted_items = items.sort()\n",
    "    cost = 0\n",
    "    for key in items:\n",
    "        print('\\t %-10s %-5.2f'%(key,stuff[key]))\n",
    "        cost += stuff[key]\n",
    "    return total_price\n",
    "items = {'Cereal':2.50, 'Ramen':1.00, 'Jello':.50}\n",
    "store(\"Bob's Pantry\",items)"
   ]
  },
  {
   "cell_type": "code",
   "execution_count": 1,
   "metadata": {},
   "outputs": [
    {
     "name": "stdout",
     "output_type": "stream",
     "text": [
      "8\n",
      "2\n",
      "PB&J's\n"
     ]
    }
   ],
   "source": [
    "# Lambda Functions \n",
    "add = lambda x,y,z: x+y+z\n",
    "print(add(1,3,4))\n",
    "\n",
    "min_message = lambda vals: str(min(vals))+\"\\nPB&J's\"\n",
    "message = min_message((5,2,6,8))\n",
    "print(message)"
   ]
  },
  {
   "cell_type": "code",
   "execution_count": 3,
   "metadata": {},
   "outputs": [
    {
     "name": "stdout",
     "output_type": "stream",
     "text": [
      "First: alice\n",
      "Second: bob\n",
      "Third: 0\n",
      "Remaining: 1\n",
      "Remaining: 2\n",
      "Remaining: 3\n"
     ]
    }
   ],
   "source": [
    "# Generators with 'yield'\n",
    "def simple_generator():\n",
    "    yield 'alice'\n",
    "    yield 'bob'\n",
    "    for x in range(4):\n",
    "        yield x\n",
    "mygen = simple_generator()\n",
    "print('First:',next(mygen))\n",
    "print('Second:',next(mygen))\n",
    "print('Third:',next(mygen))\n",
    "for x in mygen:\n",
    "    print('Remaining:',x)"
   ]
  },
  {
   "cell_type": "code",
   "execution_count": 86,
   "metadata": {},
   "outputs": [
    {
     "name": "stdout",
     "output_type": "stream",
     "text": [
      "97\n",
      "b \n",
      "\n",
      "['\\n', 'b', 'o', 'b']\n",
      "\n",
      "\n",
      "b\n",
      "o\n",
      "b\n",
      "alice\n"
     ]
    }
   ],
   "source": [
    "# Example Message Encryption/Decryption\n",
    "#    Background Review\n",
    "char = 'a' \n",
    "print(ord(char))\n",
    "new_char= chr(ord(char)+1)\n",
    "print(new_char,'\\n')\n",
    "\n",
    "name = '\\nbob'\n",
    "print(list(name))\n",
    "for char in name:\n",
    "    print(char)\n",
    "    \n",
    "print(''.join(['a','l','i','c','e']))"
   ]
  },
  {
   "cell_type": "code",
   "execution_count": 2,
   "metadata": {},
   "outputs": [
    {
     "name": "stdout",
     "output_type": "stream",
     "text": [
      "пѐщќЈёћЈѡїѝњЈющўїњёќэЈыїєїњЧ\n",
      "What is your favorite color?\n",
      "Decrypted message same as original? True\n"
     ]
    }
   ],
   "source": [
    "# Encryption + Decryption Functions\n",
    "shift_char = lambda char,shift: chr(ord(char)+shift)\n",
    "def encrypt(message,shift):\n",
    "    return ''.join([shift_char(char,shift) for char in list(message)])\n",
    "\n",
    "def decrypt(message,shift):\n",
    "    return ''.join(shift_char(char,-shift) for char in list(message))\n",
    "\n",
    "custom_shift = 1000\n",
    "original_message = 'What is your favorite color?'\n",
    "encrypted_message =  encrypt(original_message,custom_shift)\n",
    "print(encrypted_message)\n",
    "decrypted_message = decrypt(encrypted_message,custom_shift)\n",
    "print(decrypted_message)\n",
    "print('Decrypted message same as original?',decrypted_message==original_message)"
   ]
  },
  {
   "cell_type": "code",
   "execution_count": null,
   "metadata": {},
   "outputs": [],
   "source": []
  }
 ],
 "metadata": {
  "kernelspec": {
   "display_name": "Python 3",
   "language": "python",
   "name": "python3"
  },
  "language_info": {
   "codemirror_mode": {
    "name": "ipython",
    "version": 3
   },
   "file_extension": ".py",
   "mimetype": "text/x-python",
   "name": "python",
   "nbconvert_exporter": "python",
   "pygments_lexer": "ipython3",
   "version": "3.6.5"
  }
 },
 "nbformat": 4,
 "nbformat_minor": 2
}
