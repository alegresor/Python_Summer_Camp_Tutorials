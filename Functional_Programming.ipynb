{
 "cells": [
  {
   "cell_type": "markdown",
   "metadata": {},
   "source": [
    "# Functional Programming\n",
    "1. Simle Function<br>\n",
    "2. Default Inputs<br>\n",
    "3. Multiple Inputs<br>\n",
    "4. Lambda Functions<br>\n",
    "5. Generators<br>\n",
    "6. Recursion<br>\n",
    "7. Example: Encryption/Decryption "
   ]
  },
  {
   "cell_type": "code",
   "execution_count": 1,
   "metadata": {},
   "outputs": [
    {
     "name": "stdout",
     "output_type": "stream",
     "text": [
      "7\n",
      "8\n",
      "9 -> oh no\n"
     ]
    }
   ],
   "source": [
    "# Simple Functions\n",
    "def f(x):\n",
    "    print(x)\n",
    "    return x+1\n",
    "x1 = 7\n",
    "y = f(x1)\n",
    "print(y)\n",
    "print(x1+2, '-> oh no')\n",
    "'''\n",
    "Exercise:\n",
    "    Write a function that has input (n) and returns (square of n)\n",
    "    Use this function to find the square of 101\n",
    "Challenge:\n",
    "    Write a function that has input (radius) and returns (area of circle)\n",
    "    You can use PI=3.14159\n",
    "''';"
   ]
  },
  {
   "cell_type": "code",
   "execution_count": 2,
   "metadata": {},
   "outputs": [
    {
     "name": "stdout",
     "output_type": "stream",
     "text": [
      "Hola alice your #1\n",
      "Hola bob your #1\n",
      "Hola ['alice', 'bob'] your #1\n",
      "Hola bobby your #1\n",
      ":<)\n"
     ]
    }
   ],
   "source": [
    "# Default Inputs\n",
    "def message(name='bob'):\n",
    "    num = 0\n",
    "    num += 1 # Same as: num = num+1\n",
    "    print('Hola',name,'your #'+str(num))\n",
    "    return ':<)'\n",
    "message('alice')\n",
    "message()\n",
    "message(['alice','bob'])\n",
    "recieved = message({'a':'alice','b':'bobby'}['b'])\n",
    "print(recieved)\n",
    "'''\n",
    "Exercise:\n",
    "    Write a function that has input (grade %) and output (got an A (True/False))\n",
    "    Students get an A for achieving >=90%\n",
    "    If a teacher uses the function but doesn't provide input, then the student should get 100%\n",
    "Challenge:\n",
    "    Write the above function in 2 lines of code\n",
    "''';"
   ]
  },
  {
   "cell_type": "code",
   "execution_count": 3,
   "metadata": {},
   "outputs": [
    {
     "name": "stdout",
     "output_type": "stream",
     "text": [
      "Welcome to: BOB'S PANTRY\n",
      "\t Cereal     2.50 \n",
      "\t Jello      0.50 \n",
      "\t Ramen      1.00 \n",
      "3\n",
      "4\n"
     ]
    }
   ],
   "source": [
    "# Multiple Inputs\n",
    "def store(name,stuff):\n",
    "    print('Welcome to:',name.upper())\n",
    "    items = list(stuff.keys())\n",
    "    sorted_items = items.sort()\n",
    "    cost = 0\n",
    "    for key in items:\n",
    "        print('\\t %-10s %-5.2f'%(key,stuff[key]))\n",
    "        cost += stuff[key]\n",
    "    return cost\n",
    "items = {'Cereal':2.50, 'Ramen':1.00, 'Jello':.50}\n",
    "store(\"Bob's Pantry\",items)\n",
    "\n",
    "def len_args(*args):\n",
    "    print(len(args))\n",
    "len_args(1,2,3)\n",
    "len_args(1,2,3,4)\n",
    "'''\n",
    "Exercise:\n",
    "    Write a function that has input (list1,list2) and returns (max of all numbers in list1 and list2)\n",
    "    Hint: start with variable max_num=list1[0] and then update as you check each element of both lists\n",
    "    Example: max_2_lists([1,3,5],[2,4,6])==6\n",
    "Challenge:\n",
    "    Write a function that has input (unknown number of lists)\n",
    "    and returns (max of all elements in all lists)\n",
    "    What does the max(list) function do? \n",
    "''';"
   ]
  },
  {
   "cell_type": "code",
   "execution_count": 4,
   "metadata": {},
   "outputs": [
    {
     "name": "stdout",
     "output_type": "stream",
     "text": [
      "8\n",
      "2\n",
      "PB&J's\n",
      "(7, -1)\n"
     ]
    }
   ],
   "source": [
    "# Lambda Functions \n",
    "add = lambda x,y,z: x+y+z\n",
    "print(add(1,3,4))\n",
    "\n",
    "min_message = lambda vals: str(min(vals))+\"\\nPB&J's\"\n",
    "message = min_message((5,2,6,8))\n",
    "print(message)\n",
    "\n",
    "multReturns = lambda x,y: (x+y,x-y)\n",
    "print(multReturns(3,4))\n",
    "'''\n",
    "Exercise:\n",
    "    Write a function that has input (x,y) and returns and returns (remainder of x divided by y)\n",
    "Challenge: \n",
    "    Write a function that has defaulted inputs (x,y) and returns (x^2 and y^2 as seperate values)\n",
    "''';"
   ]
  },
  {
   "cell_type": "code",
   "execution_count": 5,
   "metadata": {},
   "outputs": [
    {
     "name": "stdout",
     "output_type": "stream",
     "text": [
      "First: alice\n",
      "Second: bob\n",
      "Third: 0\n",
      "Remaining: 1\n",
      "Remaining: 2\n",
      "Remaining: 3\n"
     ]
    }
   ],
   "source": [
    "# Generators with 'yield'\n",
    "def simple_generator():\n",
    "    yield 'alice'\n",
    "    yield 'bob'\n",
    "    for x in range(4):\n",
    "        yield x\n",
    "mygen = simple_generator()\n",
    "print('First:',next(mygen))\n",
    "print('Second:',next(mygen))\n",
    "print('Third:',next(mygen))\n",
    "for x in mygen:\n",
    "    print('Remaining:',x)\n",
    "'''\n",
    "Exercise:\n",
    "    Write a generator that has input (String) and yields (next letter in string)\n",
    "    Example: letterGen('bob') should yield 'b' then 'o' then 'b'\n",
    "Challenge:\n",
    "    Write a generator for the fibonacci numbers (1,1,2,3,5,8, (sum of previous 2 numbers))\n",
    "    Use the generator to print the first 20 fibonacci numbers\n",
    "''';"
   ]
  },
  {
   "cell_type": "code",
   "execution_count": 6,
   "metadata": {},
   "outputs": [
    {
     "name": "stdout",
     "output_type": "stream",
     "text": [
      "0! = 1\n",
      "1! = 1\n",
      "2! = 2\n",
      "3! = 6\n",
      "4! = 24\n",
      "5! = 120\n",
      "6! = 720\n",
      "7! = 5040\n",
      "8! = 40320\n",
      "9! = 362880\n"
     ]
    }
   ],
   "source": [
    "# Recursion\n",
    "def factorial(n):\n",
    "    if n==0:\n",
    "        return 1\n",
    "    else:\n",
    "        return n*factorial(n-1)\n",
    "[print(str(x)+'! =',factorial(x)) for x in range(10)]\n",
    "'''\n",
    "Exercise:\n",
    "    Write a recursive function to print the sum of all whole numbers less than or equal to the input\n",
    "    Example: print_lte(n=3) should output 6 (3+2+1) and print_lte(n=4) should output 10 (4+3+2+1)        \n",
    "Challenge:\n",
    "    Write a recursive function to print a triangle of '*' characters that has height h:\n",
    "    Example: build_triange(h=3) should give\n",
    "        ***\n",
    "        **\n",
    "        *\n",
    "''';"
   ]
  },
  {
   "cell_type": "code",
   "execution_count": 7,
   "metadata": {},
   "outputs": [
    {
     "name": "stdout",
     "output_type": "stream",
     "text": [
      "97\n",
      "b \n",
      "\n",
      "['\\n', 'b', 'o', 'b']\n",
      "\n",
      "\n",
      "b\n",
      "o\n",
      "b\n",
      "alice\n"
     ]
    }
   ],
   "source": [
    "# Example Message Encryption/Decryption\n",
    "#    Background Review\n",
    "char = 'a' \n",
    "print(ord(char))\n",
    "new_char= chr(ord(char)+1)\n",
    "print(new_char,'\\n')\n",
    "\n",
    "name = '\\nbob'\n",
    "print(list(name))\n",
    "for char in name:\n",
    "    print(char)\n",
    "    \n",
    "print(''.join(['a','l','i','c','e']))\n",
    "'''\n",
    "Exercise:\n",
    "    What is the output of: ' '.join('cat')? Remember, python thinks of 'cat' as ['c','a','t']\n",
    "    What is the output of ' '.join([str(x+3) for x in range(5)])\n",
    "Challenge:\n",
    "    Write a lambda function with inputs (char,shift) that returns (character shift number forward)\n",
    "    Example: charShiftFunc('b',2) should return 'd'\n",
    "    Hint: chr(x) converts x:number->char. ord(x) converts x:char->number\n",
    "''';"
   ]
  },
  {
   "cell_type": "code",
   "execution_count": 8,
   "metadata": {},
   "outputs": [
    {
     "name": "stdout",
     "output_type": "stream",
     "text": [
      "Encrypted Message:\n",
      "\t пѐщќЈёћЈѡїѝњЈющўїњёќэЈыїєїњЧ\n",
      "Decrypted Message:\n",
      "\t What is your favorite color?\n",
      "Decrypted message same as original?\n",
      "\t True\n"
     ]
    }
   ],
   "source": [
    "# Encryption + Decryption Functions\n",
    "shift_char = lambda char,shift: chr(ord(char)+shift)\n",
    "def encrypt(message,shift):\n",
    "    return ''.join([shift_char(char,shift) for char in message])\n",
    "\n",
    "def decrypt(message,shift):\n",
    "    return ''.join([shift_char(char,-shift) for char in message])\n",
    "\n",
    "custom_shift = 1000\n",
    "original_message = 'What is your favorite color?'\n",
    "encrypted_message =  encrypt(original_message,custom_shift)\n",
    "print('Encrypted Message:\\n\\t',encrypted_message)\n",
    "decrypted_message = decrypt(encrypted_message,custom_shift)\n",
    "print('Decrypted Message:\\n\\t',decrypted_message)\n",
    "print('Decrypted message same as original?\\n\\t',decrypted_message==original_message)\n",
    "'''\n",
    "Exercise:\n",
    "    \n",
    "Challenge:\n",
    "    Your friend gives you a secret message : \n",
    "    Knowing the shift is less than 15 and the original message contains the word 'amigo':\n",
    "    Write a function to help you decrypt the message\n",
    "    Hint: You already have the above decrypt function\n",
    "    You'll need to write a function that calls decrypt multiple times\n",
    "    Try your function on the below message\n",
    "''';\n",
    "canYouDecryptMe = 'f|-nr-q|v{t-trn-nzvt|9-xrr}-v-}';"
   ]
  },
  {
   "cell_type": "code",
   "execution_count": null,
   "metadata": {},
   "outputs": [],
   "source": []
  }
 ],
 "metadata": {
  "kernelspec": {
   "display_name": "Python 3",
   "language": "python",
   "name": "python3"
  },
  "language_info": {
   "codemirror_mode": {
    "name": "ipython",
    "version": 3
   },
   "file_extension": ".py",
   "mimetype": "text/x-python",
   "name": "python",
   "nbconvert_exporter": "python",
   "pygments_lexer": "ipython3",
   "version": "3.6.5"
  }
 },
 "nbformat": 4,
 "nbformat_minor": 2
}
