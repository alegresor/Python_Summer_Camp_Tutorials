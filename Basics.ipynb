{
 "cells": [
  {
   "cell_type": "markdown",
   "metadata": {},
   "source": [
    "# Basics\n",
    "1. Output<br>\n",
    "2. Variables<br>\n",
    "3. Numbers<br>\n",
    "4. Data Structures: List, String, Tuple, Dictionary<br>\n",
    "5. Logic: Conditional, Loops (while,for))<br>\n",
    "6. Bonus: try-except"
   ]
  },
  {
   "cell_type": "code",
   "execution_count": 1,
   "metadata": {},
   "outputs": [
    {
     "name": "stdout",
     "output_type": "stream",
     "text": [
      "hello\n",
      "\n",
      "bob\n",
      "\n",
      "me amigo\n"
     ]
    }
   ],
   "source": [
    "# Output\n",
    "print('hello')\n",
    "print()\n",
    "print('bob')\n",
    "print('\\nme amigo')\n",
    "'''\n",
    "Exercise: \n",
    "    Write a program to output the following:\n",
    "    Hola\n",
    "\n",
    "    Amigo Frito\n",
    "Challenge:\n",
    "    Do the exercise with a single line of code\n",
    "''';"
   ]
  },
  {
   "cell_type": "code",
   "execution_count": 2,
   "metadata": {},
   "outputs": [
    {
     "name": "stdout",
     "output_type": "stream",
     "text": [
      "5\n",
      "bob\n",
      "4e-05\n",
      "a\n",
      "True\n"
     ]
    }
   ],
   "source": [
    "# Variable: Hold a value (peice of data)\n",
    "b = 5\n",
    "print(b)\n",
    "o = 'bob'\n",
    "print(o)\n",
    "b = 4*(10**-5)\n",
    "print(b)\n",
    "char = 'a'\n",
    "print(char)\n",
    "thisIsFun = True\n",
    "print(thisIsFun)\n",
    "'''\n",
    "Exercise:\n",
    "    Assign and print 5 seperate variables:\n",
    "    char, string, int (whole #), float (# with decimal), boolean (True/False or 1/0)\n",
    "Challenge:\n",
    "    Find 0.000008 in scientific notation (8e?)\n",
    "    Assign and print a multi-line string\n",
    "''';"
   ]
  },
  {
   "cell_type": "code",
   "execution_count": 3,
   "metadata": {},
   "outputs": [
    {
     "name": "stdout",
     "output_type": "stream",
     "text": [
      "5\n",
      "-1\n",
      "6\n",
      "4.0\n",
      "8\n",
      "3\n",
      "2\n",
      "3.5\n"
     ]
    }
   ],
   "source": [
    "# Numbers\n",
    "x = 2\n",
    "y = x + 1.5\n",
    "print(x+3)\n",
    "print(x-3)\n",
    "print(3*x)\n",
    "print(x/(1/2))\n",
    "print(x**3) # x^3\n",
    "print(13%5)\n",
    "print(x)\n",
    "print(y)\n",
    "'''\n",
    "Exercise:\n",
    "    Assign a number to variable.\n",
    "    Preform +, -, *, /, and ** operations on this variable with another number\n",
    "    Print the results after each operation\n",
    "Challenge:\n",
    "    Find an X such that 17%X=2\n",
    "''';"
   ]
  },
  {
   "cell_type": "code",
   "execution_count": 4,
   "metadata": {},
   "outputs": [
    {
     "name": "stdout",
     "output_type": "stream",
     "text": [
      "silly silly string\n",
      "['s', 'i', 'l', 'l', 'y']\n",
      "bob                  joe 7                    |            0.89\n"
     ]
    }
   ],
   "source": [
    "# Data Structures: Hold sets or arrangements of variables\n",
    "#    String\n",
    "#        List of characters\n",
    "s1 = 'string'\n",
    "s2 = 'silly'\n",
    "s = s2 + ' ' + s1\n",
    "print(s[:5],s)\n",
    "print(list(s2))\n",
    "new_string = '%s %20s %-20d | %15.2f'%('bob','joe',7,.89)\n",
    "print(new_string)\n",
    "'''\n",
    "Exercise:\n",
    "    Create a string variable that contains a compound word\n",
    "    Print the string and then print a word within the string\n",
    "    Example: If my string is 'butterfly' then the code should print: butterfly butter\n",
    "Challenge:\n",
    "    Convert your string to a list of characters and print the middle 3 characters.\n",
    "    Write and print an example of a formatted string\n",
    "''';"
   ]
  },
  {
   "cell_type": "code",
   "execution_count": 5,
   "metadata": {},
   "outputs": [
    {
     "name": "stdout",
     "output_type": "stream",
     "text": [
      "1 bob\n",
      "4\n",
      "['bob', 'glue', 'two']\n",
      "['shoe', 'bob', 'glue']\n",
      "[7, 8, 9]\n",
      "True\n"
     ]
    }
   ],
   "source": [
    "#    List\n",
    "list1 = [1,'bob','blue','two']\n",
    "print(list1[0],list1[1])\n",
    "print(len(list1))\n",
    "list1[0] = 'shoe'\n",
    "list1[-2] = 'glue'\n",
    "print(list1[1:])\n",
    "print(list1[0:-1])\n",
    "shorthand = [x for x in range(7,10)]\n",
    "print(shorthand)\n",
    "print(8 in shorthand)\n",
    "'''\n",
    "Exercise:\n",
    "    Create a list of your 5 favorite songs. Print out your top 3\n",
    "Challenge:\n",
    "    Use one line of code to create a list of all numbers from 3-500\n",
    "''';"
   ]
  },
  {
   "cell_type": "code",
   "execution_count": 6,
   "metadata": {},
   "outputs": [
    {
     "name": "stdout",
     "output_type": "stream",
     "text": [
      "(1, 2, 3, 4)\n",
      "(7, 8, 9)\n"
     ]
    }
   ],
   "source": [
    "#    Tuple\n",
    "#        Ordered set of data\n",
    "#        Cannot me modified after creation\n",
    "tup = (1,2,3,4)\n",
    "print(tup)\n",
    "l = [7,8,9]\n",
    "print(tuple(l))\n",
    "'''\n",
    "Exercise:\n",
    "    Create a tuple. Now try to reassign the first element to be \"bob\". What happens? Why? \n",
    "Challenge:\n",
    "    Find a way to reassign the first element to be 'bob'. Hint: convert between types\n",
    "''';"
   ]
  },
  {
   "cell_type": "code",
   "execution_count": 7,
   "metadata": {},
   "outputs": [
    {
     "name": "stdout",
     "output_type": "stream",
     "text": [
      "Items 'Keys':value in the store\n",
      "\t {'silly bands': 1.0, 'big tv': 1000.0, 'chair': 15.0}\n",
      "\t dict_keys(['silly bands', 'big tv', 'chair']) \n",
      "\t dict_values([1.0, 1000.0, 15.0])\n",
      "[(1, 2), (3, 4)]\n"
     ]
    }
   ],
   "source": [
    "#    Dictionary\n",
    "store = {'silly bands':1.00, 'big tv':1000.00, 'chair':15.00}\n",
    "print(\"Items 'Keys':value in the store\\n\\t\",store)\n",
    "print('\\t',store.keys(),'\\n\\t',store.values())\n",
    "\n",
    "whoa = {'Coordinates_1':[(1,2),(3,4)],'Coordinates_2':[(5,6),(7,8)]}\n",
    "print(whoa['Coordinates_1'])\n",
    "\n",
    "'''\n",
    "Exercise: \n",
    "    Create a dictionary with 2 int (whole number) keys. \n",
    "    The values can be whatever you like. Maybe what you do at that time of the day\n",
    "    Example: {10:'Eat Dinner'}\n",
    "Challenge:\n",
    "    Create a dictionary with values that are dictionaries. \n",
    "    Example: A store dictionary. \n",
    "        Keys are departments, values are dictionaries of item:value in department\n",
    "''';"
   ]
  },
  {
   "cell_type": "code",
   "execution_count": 8,
   "metadata": {},
   "outputs": [
    {
     "name": "stdout",
     "output_type": "stream",
     "text": [
      "False\n",
      "True\n",
      "True\n",
      "True\n",
      "False\n",
      "True\n",
      "True\n",
      "False\n"
     ]
    }
   ],
   "source": [
    "# Logic\n",
    "#   Comparisons\n",
    "print(1==0)\n",
    "print(1==True)\n",
    "print(not 0==True)\n",
    "print(0==False)\n",
    "print(0>=5)\n",
    "print(5<6)\n",
    "print('bob'=='bob')\n",
    "print([1,2,3]!=[1,2,3])"
   ]
  },
  {
   "cell_type": "code",
   "execution_count": 9,
   "metadata": {},
   "outputs": [
    {
     "name": "stdout",
     "output_type": "stream",
     "text": [
      "12\n",
      "fetching dog\n",
      "yum\n",
      "5\n"
     ]
    }
   ],
   "source": [
    "#    Conditional\n",
    "amIRight = False\n",
    "if amIRight:\n",
    "    print('boooooo')\n",
    "\n",
    "d = 15\n",
    "if d>18:\n",
    "    print(d)\n",
    "else:\n",
    "    print(d-3)\n",
    "\n",
    "amigo = 'dog'\n",
    "if amigo == 'dog':\n",
    "    print(\"fetching \"+amigo)\n",
    "elif amigo == 'parrot' and 1==1:\n",
    "    print(\"Talking \"+amigo)\n",
    "elif amigo == 'cat' or amigo == 'lion':\n",
    "    print(\"Meowing \"+amigo)\n",
    "else: \n",
    "    print('Unknown ' + amigo)\n",
    "\n",
    "if 'bab' in 'Shish kebab':\n",
    "    print('yum')\n",
    "\n",
    "if not True==True:\n",
    "    print('bob')\n",
    "\n",
    "abbreviatedConditional = 5 if 2 in list(range(5)) else 6\n",
    "print(abbreviatedConditional)\n",
    "\n",
    "'''\n",
    "Exercise:\n",
    "    Write an conditional statement with if, elif, and else conditions\n",
    "Challenge:\n",
    "    Include keywords: 'and', 'or', 'not'\n",
    "    Write an abbreviated conditional that assigns a boolean variable (True/False)\n",
    "''';"
   ]
  },
  {
   "cell_type": "code",
   "execution_count": 10,
   "metadata": {},
   "outputs": [
    {
     "name": "stdout",
     "output_type": "stream",
     "text": [
      "Of course\n",
      "7\n",
      "8\n",
      "bob\n",
      ":(\n"
     ]
    }
   ],
   "source": [
    "#    loops\n",
    "#        While\n",
    "areYouRight = True\n",
    "while areYouRight:\n",
    "    print('Of course')\n",
    "    areYouRight = False\n",
    "\n",
    "a = 7\n",
    "while a<=100:\n",
    "    if a<=8:\n",
    "        print(a)\n",
    "    elif a<=9:\n",
    "        print('bob')\n",
    "    elif a>10:\n",
    "        break\n",
    "    else:\n",
    "        print(':(')\n",
    "    a = a+1\n",
    "'''\n",
    "Exercise:\n",
    "    Write a while loop that prints \n",
    "        7\n",
    "        8\n",
    "        9\n",
    "    Write a while loop that checks the condition 3 times\n",
    "Challenge: \n",
    "    Make the while loop depend on 2 conditions\n",
    "    Output the following using a while loop:\n",
    "    |\n",
    "    ||\n",
    "    |||\n",
    "    Hint: '|'*4 == '||||'\n",
    "''';"
   ]
  },
  {
   "cell_type": "code",
   "execution_count": 11,
   "metadata": {},
   "outputs": [
    {
     "name": "stdout",
     "output_type": "stream",
     "text": [
      "fb\n",
      "gram\n",
      "bird\n",
      "and\n",
      "[0, 1, 2] \n",
      "and\n",
      "7\n",
      "8\n",
      "9\n",
      "again\n",
      "and bob :((\n"
     ]
    }
   ],
   "source": [
    "#        For\n",
    "book = ['fb','gram','bird','and']\n",
    "for face in book:\n",
    "    print(face)\n",
    "\n",
    "list2 = list(range(3))\n",
    "print(list2,'\\nand')\n",
    "\n",
    "for i in range(6):\n",
    "    if i<3:\n",
    "        print(i+7)\n",
    "    elif i==3:\n",
    "        continue\n",
    "    elif i==4:\n",
    "        print('again')\n",
    "    else:\n",
    "        print('and bob :((')\n",
    "\n",
    "'''\n",
    "Exercise: \n",
    "    Use a for loop to print the square of the first 5 numbers. Should output: 1,4,9,16,25\n",
    "Challenge:\n",
    "    Write a for loop to print the first 15 fibonacci numbers \n",
    "    A fibonacci number is the sum of the previous 2 numbers in the sequence starting with 1,1,...\n",
    "    Should output: 1,1,2,3,5,8,...\n",
    "    Hint: Create 2 variables that are updated on each iteration.\n",
    "        You may need a temporary variable for reassignment within the loop\n",
    "''';    "
   ]
  },
  {
   "cell_type": "code",
   "execution_count": 12,
   "metadata": {},
   "outputs": [
    {
     "name": "stdout",
     "output_type": "stream",
     "text": [
      "\n",
      "Cannot divide by 0\n",
      "caught specific exception: 'tuple' object does not support item assignment \n",
      "\tbecause you cannot modify tuples, only lists\n",
      "Catches only errors from dividing by 0\n"
     ]
    }
   ],
   "source": [
    "# Extra: Try-Catch \n",
    "try:\n",
    "    print(5/0)\n",
    "except:\n",
    "    print('\\nCannot divide by 0')\n",
    "\n",
    "try:\n",
    "    tup = (7,8,9)\n",
    "    tup[0] = 4\n",
    "    print(tup)\n",
    "    print('bob')\n",
    "except Exception as e:\n",
    "    print('caught specific exception:',e,'\\n\\tbecause you cannot modify tuples, only lists')\n",
    "    \n",
    "try:\n",
    "    print(5/0)\n",
    "except ZeroDivisionError:\n",
    "    print(\"Catches only errors from dividing by 0\")\n",
    "'''\n",
    "Exercise:\n",
    "    Write code that uses try-except\n",
    "Challenge:\n",
    "    Write code that catches only IndexError \n",
    "    Hint: IndexError often occurs with lists/tuples. Why?\n",
    "    try-catch KeyError (occurs for dictionary)\n",
    "''';"
   ]
  }
 ],
 "metadata": {
  "kernelspec": {
   "display_name": "Python 3",
   "language": "python",
   "name": "python3"
  },
  "language_info": {
   "codemirror_mode": {
    "name": "ipython",
    "version": 3
   },
   "file_extension": ".py",
   "mimetype": "text/x-python",
   "name": "python",
   "nbconvert_exporter": "python",
   "pygments_lexer": "ipython3",
   "version": "3.6.5"
  }
 },
 "nbformat": 4,
 "nbformat_minor": 2
}
