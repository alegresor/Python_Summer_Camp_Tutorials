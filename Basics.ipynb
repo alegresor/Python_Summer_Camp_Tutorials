{
 "cells": [
  {
   "cell_type": "markdown",
   "metadata": {},
   "source": [
    "# Basics\n",
    "1. Output<br>\n",
    "2. Variables<br>\n",
    "3. Numbers<br>\n",
    "4. Data Structures: List, String, Tuple, Dictionary<br>\n",
    "5. Logic: Conditional, Loops (while,for))<br>\n",
    "6. Bonus"
   ]
  },
  {
   "cell_type": "code",
   "execution_count": 1,
   "metadata": {},
   "outputs": [
    {
     "name": "stdout",
     "output_type": "stream",
     "text": [
      "hello\n",
      "\n",
      "bob\n",
      "\n",
      "me amigo\n"
     ]
    }
   ],
   "source": [
    "# Output\n",
    "print('hello')\n",
    "print()\n",
    "print('bob')\n",
    "print('\\nme amigo')"
   ]
  },
  {
   "cell_type": "code",
   "execution_count": 2,
   "metadata": {},
   "outputs": [
    {
     "name": "stdout",
     "output_type": "stream",
     "text": [
      "5\n",
      "bob\n",
      "4e-05\n",
      "a\n"
     ]
    }
   ],
   "source": [
    "# Variables\n",
    "b = 5\n",
    "print(b)\n",
    "o = 'bob'\n",
    "print(o)\n",
    "b = 4*(10**-5)\n",
    "print(b)\n",
    "char = 'a'\n",
    "print(char)"
   ]
  },
  {
   "cell_type": "code",
   "execution_count": 3,
   "metadata": {},
   "outputs": [
    {
     "name": "stdout",
     "output_type": "stream",
     "text": [
      "0.5\n",
      "2.0\n",
      "3.5\n",
      "-2.5\n",
      "1.5\n",
      "1.0\n",
      "3\n"
     ]
    },
    {
     "data": {
      "text/plain": [
       "2.0"
      ]
     },
     "execution_count": 3,
     "metadata": {},
     "output_type": "execute_result"
    }
   ],
   "source": [
    "# Numbers\n",
    "x = 0.5\n",
    "print(x)\n",
    "y = x + 1.5\n",
    "print(y)\n",
    "print(x+3)\n",
    "print(x-3)\n",
    "print(3*x)\n",
    "print(x/(1/2))\n",
    "print(x**2) # x^2\n",
    "print(13%5)\n",
    "y"
   ]
  },
  {
   "cell_type": "code",
   "execution_count": 4,
   "metadata": {},
   "outputs": [
    {
     "name": "stdout",
     "output_type": "stream",
     "text": [
      "1 bob\n",
      "3\n",
      "['shoe', 'bob']\n",
      "[7, 8, 9]\n"
     ]
    }
   ],
   "source": [
    "# Data Structures\n",
    "#    List\n",
    "list1 = [1,'bob','blue']\n",
    "print(list1[0],list1[1])\n",
    "print(len(list1))\n",
    "list1[0] = 'shoe'\n",
    "print(list1[:2])\n",
    "shorthand = [x for x in range(7,10)]\n",
    "print(shorthand)"
   ]
  },
  {
   "cell_type": "code",
   "execution_count": 5,
   "metadata": {},
   "outputs": [
    {
     "name": "stdout",
     "output_type": "stream",
     "text": [
      "silly silly string\n",
      "['s', 'i', 'l', 'l', 'y']\n",
      "bob                  joe 7                    |            0.89\n"
     ]
    }
   ],
   "source": [
    "#    String\n",
    "#        List of characters\n",
    "s1 = 'string'\n",
    "s2 = 'silly'\n",
    "s = s2 + ' ' + s1\n",
    "print(s[:5],s)\n",
    "print(list(s2))\n",
    "print('%s %20s %-20d | %15.2f'%('bob','joe',7,.89))"
   ]
  },
  {
   "cell_type": "code",
   "execution_count": 6,
   "metadata": {},
   "outputs": [
    {
     "name": "stdout",
     "output_type": "stream",
     "text": [
      "(1, 2, 3, 4)\n"
     ]
    }
   ],
   "source": [
    "#    Tuple\n",
    "#        Cannot me modified after creation\n",
    "tup = (1,2,3,4)\n",
    "print(tup)"
   ]
  },
  {
   "cell_type": "code",
   "execution_count": 7,
   "metadata": {},
   "outputs": [
    {
     "name": "stdout",
     "output_type": "stream",
     "text": [
      "Items (Keys):values in the store\n",
      "\t {'silly bands': 1.0, 'big tv': 1000.0}\n",
      "\t dict_keys(['silly bands', 'big tv']) \n",
      "\t dict_values([1.0, 1000.0])\n",
      "[(6, 7), (8, 9)]\n"
     ]
    }
   ],
   "source": [
    "#    Dictionary\n",
    "store = {'silly bands':1.00, 'big tv':1000.00}\n",
    "print(\"Items (Keys):values in the store\\n\\t\",store)\n",
    "print('\\t',store.keys(),'\\n\\t',store.values())\n",
    "\n",
    "whoa = {'Coordinates':[(6,7),(8,9)]}\n",
    "print(whoa['Coordinates'])"
   ]
  },
  {
   "cell_type": "code",
   "execution_count": 9,
   "metadata": {},
   "outputs": [
    {
     "name": "stdout",
     "output_type": "stream",
     "text": [
      "12\n",
      "fetching dog\n",
      "yum\n"
     ]
    }
   ],
   "source": [
    "# Logic\n",
    "#    Conditional\n",
    "amIRight = False\n",
    "if amIRight:\n",
    "    print('boooooo')\n",
    "\n",
    "d=15\n",
    "if(d>18):\n",
    "    print(d)\n",
    "else:\n",
    "    print(d-3)\n",
    "\n",
    "amigo = 'dog'\n",
    "if amigo == 'dog':\n",
    "    print(\"fetching \"+amigo)\n",
    "elif amigo == 'parrots' and True==True:\n",
    "    print(\"Talking \"+amigo)\n",
    "elif amigo == 'cat' or 1!=1:\n",
    "    print(\"Meowing \"+amigo)\n",
    "else: \n",
    "    print('Unknown ' + amigo)\n",
    "\n",
    "if 'bab' in 'Shish kebab':\n",
    "    print('yum')\n",
    "\n",
    "if not True==True:\n",
    "    print('bob')"
   ]
  },
  {
   "cell_type": "code",
   "execution_count": 9,
   "metadata": {},
   "outputs": [
    {
     "name": "stdout",
     "output_type": "stream",
     "text": [
      "Of course\n",
      "7\n",
      "8\n",
      "bob\n",
      ":(\n"
     ]
    }
   ],
   "source": [
    "#    loops\n",
    "#        While\n",
    "areYouRight = True\n",
    "while(areYouRight):\n",
    "    print('Of course')\n",
    "    areYouRight = False\n",
    "\n",
    "a = 7\n",
    "while(a<=100):\n",
    "    if a<=8:\n",
    "        print(a)\n",
    "    elif a<=9:\n",
    "        print('bob')\n",
    "    elif a>10:\n",
    "        break\n",
    "    else:\n",
    "        print(':(')\n",
    "    a = a+1"
   ]
  },
  {
   "cell_type": "code",
   "execution_count": 2,
   "metadata": {},
   "outputs": [
    {
     "name": "stdout",
     "output_type": "stream",
     "text": [
      "fb\n",
      "gram\n",
      "bird\n",
      "and\n",
      "[0, 1, 2] \n",
      "and\n",
      "7\n",
      "8\n",
      "9\n",
      "again\n",
      "and bob :((\n"
     ]
    }
   ],
   "source": [
    "#        For\n",
    "book = ['fb','gram','bird','and']\n",
    "for word in book:\n",
    "    print(word)\n",
    "\n",
    "list2 = list(range(3))\n",
    "print(list2,'\\nand')\n",
    "\n",
    "for i in range(6):\n",
    "    if i<3:\n",
    "        print(i+7)\n",
    "    elif i==3:\n",
    "        continue\n",
    "    elif i==4:\n",
    "        print('again')\n",
    "    else:\n",
    "        print('and bob :((')"
   ]
  },
  {
   "cell_type": "code",
   "execution_count": 11,
   "metadata": {},
   "outputs": [
    {
     "name": "stdout",
     "output_type": "stream",
     "text": [
      "True\n",
      "and Tricky\n",
      "\n",
      "Cannot divide by 0\n",
      "caught specific exception: 'tuple' object does not support item assignment \n",
      "\tbecause you cannot maodify tuples, only lists\n"
     ]
    }
   ],
   "source": [
    "# Bonus\n",
    "myHair = ['alice','bob','charlie']\n",
    "print('bob' in myHair)\n",
    "if len(myHair) == len('bob'): print(5 if False else 'and Tricky') \n",
    "\n",
    "# Try-Catch (For handline errors)\n",
    "try:\n",
    "    print(5/0)\n",
    "except:\n",
    "    print('\\nCannot divide by 0')\n",
    "\n",
    "try:\n",
    "    tup = (7,8,9)\n",
    "    tup[0] = 4\n",
    "    print(tup)\n",
    "    print('bob')\n",
    "except Exception as e:\n",
    "    print('caught specific exception:',e,'\\n\\tbecause you cannot maodify tuples, only lists')"
   ]
  },
  {
   "cell_type": "code",
   "execution_count": null,
   "metadata": {},
   "outputs": [],
   "source": []
  }
 ],
 "metadata": {
  "kernelspec": {
   "display_name": "Python 3",
   "language": "python",
   "name": "python3"
  },
  "language_info": {
   "codemirror_mode": {
    "name": "ipython",
    "version": 3
   },
   "file_extension": ".py",
   "mimetype": "text/x-python",
   "name": "python",
   "nbconvert_exporter": "python",
   "pygments_lexer": "ipython3",
   "version": "3.6.5"
  }
 },
 "nbformat": 4,
 "nbformat_minor": 2
}
